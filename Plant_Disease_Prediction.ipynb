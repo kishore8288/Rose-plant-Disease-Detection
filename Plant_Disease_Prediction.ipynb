{
 "cells": [
  {
   "cell_type": "code",
   "execution_count": 29,
   "metadata": {
    "id": "Icd56Xg703u4"
   },
   "outputs": [],
   "source": [
    "import numpy as np\n",
    "import pandas as pd\n",
    "import matplotlib.pyplot as plt\n",
    "import seaborn as sns\n",
    "import warnings\n",
    "warnings.filterwarnings('ignore')\n",
    "import cv2 as cv\n",
    "import os\n",
    "from PIL import Image"
   ]
  },
  {
   "cell_type": "code",
   "execution_count": 30,
   "metadata": {
    "colab": {
     "base_uri": "https://localhost:8080/"
    },
    "id": "ZoYTp_XKET_P",
    "outputId": "fdfe3842-3ed5-4dff-b656-f377502c0271"
   },
   "outputs": [
    {
     "name": "stdout",
     "output_type": "stream",
     "text": [
      "cpu\n"
     ]
    }
   ],
   "source": [
    "import torch\n",
    "import torch.nn as nn\n",
    "import torch.functional as F\n",
    "import torch.optim as optim\n",
    "import torchvision.models as models\n",
    "from torchvision.datasets import ImageFolder\n",
    "from torch.utils.data import DataLoader\n",
    "import torchvision.transforms as transforms\n",
    "device = torch.device(\"cuda\" if torch.cuda.is_available() else \"cpu\")\n",
    "print(device)"
   ]
  },
  {
   "cell_type": "code",
   "execution_count": 95,
   "metadata": {
    "colab": {
     "base_uri": "https://localhost:8080/"
    },
    "id": "TI_9E0BKHAxe",
    "outputId": "dc1e3227-0f8e-4ad9-d8fc-57a4ffcbbd75"
   },
   "outputs": [
    {
     "name": "stdout",
     "output_type": "stream",
     "text": [
      "Sequential(\n",
      "  (0): Dropout(p=0.2, inplace=True)\n",
      "  (1): Linear(in_features=1280, out_features=32, bias=True)\n",
      "  (fc): Linear(in_features=32, out_features=7, bias=True)\n",
      ")\n"
     ]
    }
   ],
   "source": [
    "efficientnet = models.efficientnet_b0(pretrained = True)\n",
    "num_features = efficientnet.classifier[1].in_features\n",
    "efficientnet.classifier[1] = nn.Linear(num_features, 32)\n",
    "efficientnet.classifier.fc = nn.Linear(32,7)\n",
    "efficientnet = efficientnet.to(device)\n",
    "\n",
    "for param in efficientnet.features.parameters():\n",
    "  param.requires_grad = False\n",
    "for params in efficientnet.classifier.parameters():\n",
    "  params.requires_grad = True\n",
    "print(efficientnet.classifier)"
   ]
  },
  {
   "cell_type": "markdown",
   "metadata": {
    "id": "Y2MX2natZ8Px"
   },
   "source": []
  },
  {
   "cell_type": "code",
   "execution_count": 96,
   "metadata": {
    "id": "BXrf1eM4j4n6"
   },
   "outputs": [],
   "source": [
    "class Gaussian_blur():\n",
    "  def __init__(self,mean,std):\n",
    "    self.mean = mean\n",
    "    self.std = std\n",
    "\n",
    "  def __call__(self,img):\n",
    "    img = np.array(img)/255.0\n",
    "    h,w,c = img.shape\n",
    "    noise = np.random.normal(self.mean,self.std,img.shape)\n",
    "    img = np.clip(img+noise,0,1)\n",
    "    img = np.uint8(img*255)\n",
    "    img = img[:,:,:3]\n",
    "    return Image.fromarray(img)"
   ]
  },
  {
   "cell_type": "code",
   "execution_count": 1,
   "metadata": {
    "id": "chUpgKVoWjGx"
   },
   "outputs": [],
   "source": [
    "d = {'Crown gall(Agrobacterium tumefacins)':[['Remove infected plants, avoid injuring stems, and sterilize pruning tools.'],['Copper-based sprays, Agrobacterium radiobacter (a biological control agent)']],\n",
    "     'Healthy' : [['Congrats'],['No further assistance needed']],\n",
    "     'Rust(phragmidium species)':[['Prune infected parts, avoid wetting foliage, and use fungicides if necessary.'],['Copper-based sprays, sulfur fungicides, or mancozeb.']],\n",
    "     'black rust':[['Remove infected leaves, improve air circulation, and use fungicides.'],['Neem oil, copper-based sprays, chlorothalonil, mancozeb, or myclobutanil.']],\n",
    "     'botrysis blight':[['Remove dead flowers, ensure proper spacing, and use fungicides if needed.'],['Captan, thiophanate-methyl, or chlorothalonil.']],\n",
    "     'phodosphera ponnosa':[['Ensure good airflow, avoid overhead watering, and apply fungicides.'],['Sulfur-based sprays, potassium bicarbonate, myclobutanil, or triforine.']],\n",
    "     'roserosette':[['Remove and destroy infected plants; control mite populations.'],['Horticultural oils, insecticidal soap, or abamectin-based miticides.']]\n",
    "    }\n"
   ]
  },
  {
   "cell_type": "code",
   "execution_count": 98,
   "metadata": {
    "id": "C6s2mRSQWjJb"
   },
   "outputs": [],
   "source": [
    "diseases_pth = os.path.join('/content/drive/MyDrive/Crop Survailance/Leaf Disease')"
   ]
  },
  {
   "cell_type": "code",
   "execution_count": 99,
   "metadata": {
    "colab": {
     "base_uri": "https://localhost:8080/"
    },
    "id": "lSzJmk4xgeoB",
    "outputId": "02f92dee-669a-46cd-95ca-feb896e0cfa3"
   },
   "outputs": [
    {
     "data": {
      "text/plain": [
       "['Crown gall(Agrobacterium tumefacins)',\n",
       " 'Healthy',\n",
       " 'Rust(phragmidium species)',\n",
       " 'black rust',\n",
       " 'botrysis blight',\n",
       " 'phodosphera ponnosa',\n",
       " 'roserosette']"
      ]
     },
     "execution_count": 99,
     "metadata": {},
     "output_type": "execute_result"
    }
   ],
   "source": [
    "diseases = list()\n",
    "for i in d.keys():\n",
    "  diseases.append(i)\n",
    "diseases"
   ]
  },
  {
   "cell_type": "code",
   "execution_count": 100,
   "metadata": {
    "id": "T14L9L5vhSqS"
   },
   "outputs": [],
   "source": [
    "Transforms = transforms.Compose([transforms.Resize((224,224)),\n",
    "                                 transforms.RandomHorizontalFlip(),\n",
    "                                 transforms.RandomVerticalFlip(),\n",
    "                                 transforms.RandomRotation(20),\n",
    "                                 transforms.RandomAffine(0, shear=10, scale=(0.8,1.2)),\n",
    "                                 transforms.ColorJitter(brightness=0.2, contrast=0.2, saturation=0.2),\n",
    "                                 Gaussian_blur(0,0.01),\n",
    "                                 transforms.ToTensor()])\n",
    "val_trans = transforms.Compose([transforms.Resize((224,224)),\n",
    "                                transforms.ToTensor()])"
   ]
  },
  {
   "cell_type": "code",
   "execution_count": 101,
   "metadata": {
    "id": "2yAuofUVjIWp"
   },
   "outputs": [],
   "source": [
    "train_pth = ImageFolder(root = diseases_pth, transform = Transforms)\n",
    "\n",
    "train_data = DataLoader(train_pth, batch_size = 32, shuffle = True)"
   ]
  },
  {
   "cell_type": "code",
   "execution_count": 102,
   "metadata": {
    "colab": {
     "base_uri": "https://localhost:8080/"
    },
    "id": "alL0aYjojfoA",
    "outputId": "a2dd4e64-afda-4e97-d6ac-37794790370d"
   },
   "outputs": [
    {
     "data": {
      "text/plain": [
       "Dataset ImageFolder\n",
       "    Number of datapoints: 142\n",
       "    Root location: /content/drive/MyDrive/Crop Survailance/Leaf Disease\n",
       "    StandardTransform\n",
       "Transform: Compose(\n",
       "               Resize(size=(224, 224), interpolation=bilinear, max_size=None, antialias=True)\n",
       "               RandomHorizontalFlip(p=0.5)\n",
       "               RandomVerticalFlip(p=0.5)\n",
       "               RandomRotation(degrees=[-20.0, 20.0], interpolation=nearest, expand=False, fill=0)\n",
       "               RandomAffine(degrees=[0.0, 0.0], scale=(0.8, 1.2), shear=[-10.0, 10.0])\n",
       "               ColorJitter(brightness=(0.8, 1.2), contrast=(0.8, 1.2), saturation=(0.8, 1.2), hue=None)\n",
       "               <__main__.Gaussian_blur object at 0x7f57fbfc8810>\n",
       "               ToTensor()\n",
       "           )"
      ]
     },
     "execution_count": 102,
     "metadata": {},
     "output_type": "execute_result"
    }
   ],
   "source": [
    "train_pth"
   ]
  },
  {
   "cell_type": "code",
   "execution_count": 109,
   "metadata": {
    "colab": {
     "base_uri": "https://localhost:8080/"
    },
    "id": "HbQACPl3jhX9",
    "outputId": "b561428d-d8a7-4add-87d0-54a0faf8e6f3",
    "scrolled": true
   },
   "outputs": [
    {
     "name": "stdout",
     "output_type": "stream",
     "text": [
      "Epoch 1/64, Loss: 1.131200337409973\n",
      "Epoch 2/64, Loss: 1.0899667739868164\n",
      "Epoch 3/64, Loss: 1.087049674987793\n",
      "Epoch 4/64, Loss: 1.0954825401306152\n",
      "Epoch 5/64, Loss: 1.053417479991913\n",
      "Epoch 6/64, Loss: 1.0546252608299256\n",
      "Epoch 7/64, Loss: 1.0643682718276977\n",
      "Epoch 8/64, Loss: 1.0145792245864869\n",
      "Epoch 9/64, Loss: 1.010298240184784\n",
      "Epoch 10/64, Loss: 1.0052204132080078\n",
      "Epoch 11/64, Loss: 0.9970182776451111\n",
      "Epoch 12/64, Loss: 0.9656113266944886\n",
      "Epoch 13/64, Loss: 0.9258787393569946\n",
      "Epoch 14/64, Loss: 0.9424671053886413\n",
      "Epoch 15/64, Loss: 0.9072110652923584\n",
      "Epoch 16/64, Loss: 0.8819768071174622\n",
      "Epoch 17/64, Loss: 0.9151532053947449\n",
      "Epoch 18/64, Loss: 0.8916651368141174\n",
      "Epoch 19/64, Loss: 0.8970477342605591\n",
      "Epoch 20/64, Loss: 0.8623359799385071\n",
      "Epoch 21/64, Loss: 0.913246214389801\n",
      "Epoch 22/64, Loss: 0.8559035062789917\n",
      "Epoch 23/64, Loss: 0.8511239647865295\n",
      "Epoch 24/64, Loss: 0.8408726215362549\n",
      "Epoch 25/64, Loss: 0.8066554069519043\n",
      "Epoch 26/64, Loss: 0.7929654121398926\n",
      "Epoch 27/64, Loss: 0.7867727756500245\n",
      "Epoch 28/64, Loss: 0.7759840250015259\n",
      "Epoch 29/64, Loss: 0.8069151639938354\n",
      "Epoch 30/64, Loss: 0.7202934980392456\n",
      "Epoch 31/64, Loss: 0.8015876889228821\n",
      "Epoch 32/64, Loss: 0.7768278241157531\n",
      "Epoch 33/64, Loss: 0.7382883191108703\n",
      "Epoch 34/64, Loss: 0.7250253796577454\n",
      "Epoch 35/64, Loss: 0.711288046836853\n",
      "Epoch 36/64, Loss: 0.6897191643714905\n",
      "Epoch 37/64, Loss: 0.7072036504745484\n",
      "Epoch 38/64, Loss: 0.7630718350410461\n",
      "Epoch 39/64, Loss: 0.7007578134536743\n",
      "Epoch 40/64, Loss: 0.6684112548828125\n",
      "Epoch 41/64, Loss: 0.6729322791099548\n",
      "Epoch 42/64, Loss: 0.6164732336997986\n",
      "Epoch 43/64, Loss: 0.6927375555038452\n",
      "Epoch 44/64, Loss: 0.680629825592041\n",
      "Epoch 45/64, Loss: 0.6424951553344727\n",
      "Epoch 46/64, Loss: 0.5953741788864135\n",
      "Epoch 47/64, Loss: 0.652403461933136\n",
      "Epoch 48/64, Loss: 0.6459633469581604\n",
      "Epoch 49/64, Loss: 0.6443590998649598\n",
      "Epoch 50/64, Loss: 0.6562832593917847\n",
      "Epoch 51/64, Loss: 0.5686821699142456\n",
      "Epoch 52/64, Loss: 0.6364932894706726\n",
      "Epoch 53/64, Loss: 0.6715192914009094\n",
      "Epoch 54/64, Loss: 0.5966348946094513\n",
      "Epoch 55/64, Loss: 0.6520567178726197\n",
      "Epoch 56/64, Loss: 0.6148924708366394\n",
      "Epoch 57/64, Loss: 0.5485796689987182\n",
      "Epoch 58/64, Loss: 0.5519128322601319\n",
      "Epoch 59/64, Loss: 0.601847791671753\n",
      "Epoch 60/64, Loss: 0.5413866162300109\n",
      "Epoch 61/64, Loss: 0.6272047996520996\n",
      "Epoch 62/64, Loss: 0.6170612096786499\n",
      "Epoch 63/64, Loss: 0.5375057578086853\n",
      "Epoch 64/64, Loss: 0.5184708893299103\n"
     ]
    }
   ],
   "source": [
    "epochs = 64\n",
    "efficientnet.train()\n",
    "criterion = nn.CrossEntropyLoss()\n",
    "optimizer = optim.Adam(efficientnet.parameters(), lr = 0.0001,weight_decay = 1e-3)\n",
    "\n",
    "for epoch in range(epochs) :\n",
    "  running_loss = 0\n",
    "  for img,label in train_data:\n",
    "    img, label = img.to(device),label.to(device)\n",
    "    output = efficientnet(img)\n",
    "    loss = criterion(output,label)\n",
    "    optimizer.zero_grad()\n",
    "    loss.backward()\n",
    "    optimizer.step()\n",
    "\n",
    "    running_loss += loss.item()\n",
    "  print(f'Epoch {epoch+1}/{epochs}, Loss: {running_loss/len(train_data)}')"
   ]
  },
  {
   "cell_type": "code",
   "execution_count": 112,
   "metadata": {
    "colab": {
     "base_uri": "https://localhost:8080/"
    },
    "id": "Vz84qysKl-4T",
    "outputId": "4285321f-d8a0-4483-e5c4-791568fbe0de"
   },
   "outputs": [
    {
     "name": "stdout",
     "output_type": "stream",
     "text": [
      "Index value :  black rust Index :  tensor([3])\n",
      "Suggestions : ['Remove infected leaves, improve air circulation, and use fungicides.'] \n",
      " Pesticides Needed : ['Neem oil, copper-based sprays, chlorothalonil, mancozeb, or myclobutanil.']\n"
     ]
    }
   ],
   "source": [
    "img = Image.open('/content/drive/MyDrive/Crop Survailance/Leaf Disease/black rust/Screenshot_2025-03-09-22-13-47-49_40deb401b9ffe8e1df2f1cc5ba480b12.jpg')\n",
    "img = val_trans(img)\n",
    "#img = img.permute(1,2,0).numpy()\n",
    "#plt.imshow(img)\n",
    "img = img.unsqueeze(0)\n",
    "img = img.to(device)\n",
    "output = efficientnet(img)\n",
    "pred = torch.argmax(output,1)\n",
    "pred_disease = diseases[pred]\n",
    "print(\"Index value : \",pred_disease,\"Index : \",pred)\n",
    "print(f\"Suggestions : {d[pred_disease][0]} \\n Pesticides Needed : {d[pred_disease][1]}\")"
   ]
  },
  {
   "cell_type": "code",
   "execution_count": 15,
   "metadata": {
    "colab": {
     "base_uri": "https://localhost:8080/"
    },
    "id": "2KjXJJdcmG4g",
    "outputId": "9fc8fb94-22d2-435c-b198-bf380d38d963"
   },
   "outputs": [
    {
     "name": "stdout",
     "output_type": "stream",
     "text": [
      "Failed to open the camera\n",
      "Falied to initialize the camera\n"
     ]
    }
   ],
   "source": [
    "cam = cv.VideoCapture(0)\n",
    "if not cam.isOpened():\n",
    "  print(\"Failed to open the camera\")\n",
    "  exit()\n",
    "\n",
    "while True:\n",
    "  ret,frame = cam.read()\n",
    "  if not ret:\n",
    "    print(\"Falied to initialize the camera\")\n",
    "    break\n",
    "\n",
    "  img = cv.cvtColor(frame,cv.COLOR_BGR2RGB)\n",
    "  img = Image.fromarray(img)\n",
    "  img = Transforms(img)\n",
    "  img = img.unsqueeze(0)\n",
    "  img = img.to(device)\n",
    "  output = efficientnet(img)\n",
    "  pred = torch.argmax(output,1)\n",
    "  pred_disease = diseases[pred]\n",
    "  cv.addText(frame,pred_disease,(10,30),cv.FONT_HERSHEY_SIMPLEX,1,(0,255,0),2,cv.LINE_AA)\n",
    "\n",
    "  cv.imshow('Disease',img)\n",
    "  if cv.waitKey(1) & 0xFF == ord('q'):\n",
    "    break\n",
    "\n",
    "cam.release()\n",
    "cv.destroyAllWindows()"
   ]
  },
  {
   "cell_type": "code",
   "execution_count": 38,
   "metadata": {
    "colab": {
     "base_uri": "https://localhost:8080/"
    },
    "id": "3JQzVxA6H3cz",
    "outputId": "9b9f8a19-3e38-41f9-997e-1a7d0fea0649"
   },
   "outputs": [
    {
     "data": {
      "text/plain": [
       "{'Crown gall(Agrobacterium tumefacins)': 0,\n",
       " 'Healthy': 1,\n",
       " 'Rust(phragmidium species)': 2,\n",
       " 'black rust': 3,\n",
       " 'botrysis blight': 4,\n",
       " 'phodosphera ponnosa': 5,\n",
       " 'roserosette': 6}"
      ]
     },
     "execution_count": 38,
     "metadata": {},
     "output_type": "execute_result"
    }
   ],
   "source": [
    "train_pth.class_to_idx"
   ]
  },
  {
   "cell_type": "code",
   "execution_count": 113,
   "metadata": {
    "id": "AZVMl6Q5IZ-W"
   },
   "outputs": [],
   "source": [
    "torch.save(efficientnet.state_dict(),'efficientnet_weights_64.pth')"
   ]
  },
  {
   "cell_type": "code",
   "execution_count": null,
   "metadata": {
    "id": "J9YSkgzWbZwJ"
   },
   "outputs": [],
   "source": []
  }
 ],
 "metadata": {
  "accelerator": "GPU",
  "colab": {
   "gpuType": "T4",
   "provenance": []
  },
  "kernelspec": {
   "display_name": "Python 3 (ipykernel)",
   "language": "python",
   "name": "python3"
  },
  "language_info": {
   "codemirror_mode": {
    "name": "ipython",
    "version": 3
   },
   "file_extension": ".py",
   "mimetype": "text/x-python",
   "name": "python",
   "nbconvert_exporter": "python",
   "pygments_lexer": "ipython3",
   "version": "3.10.12"
  }
 },
 "nbformat": 4,
 "nbformat_minor": 4
}
